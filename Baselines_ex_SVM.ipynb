{
 "cells": [
  {
   "cell_type": "markdown",
   "id": "8b207c08",
   "metadata": {
    "execution": {
     "iopub.execute_input": "2021-12-02T01:46:26.634845Z",
     "iopub.status.busy": "2021-12-02T01:46:26.634268Z",
     "iopub.status.idle": "2021-12-02T01:46:26.638445Z",
     "shell.execute_reply": "2021-12-02T01:46:26.637791Z",
     "shell.execute_reply.started": "2021-12-02T01:46:26.634806Z"
    },
    "papermill": {
     "duration": 0.02993,
     "end_time": "2021-12-07T14:57:59.374361",
     "exception": false,
     "start_time": "2021-12-07T14:57:59.344431",
     "status": "completed"
    },
    "tags": []
   },
   "source": [
    "# Code"
   ]
  },
  {
   "cell_type": "code",
   "execution_count": 1,
   "id": "c1c86540",
   "metadata": {
    "execution": {
     "iopub.execute_input": "2021-12-07T14:57:59.439398Z",
     "iopub.status.busy": "2021-12-07T14:57:59.438736Z",
     "iopub.status.idle": "2021-12-07T14:58:00.388418Z",
     "shell.execute_reply": "2021-12-07T14:58:00.387794Z",
     "shell.execute_reply.started": "2021-12-06T20:48:44.101528Z"
    },
    "papermill": {
     "duration": 0.986429,
     "end_time": "2021-12-07T14:58:00.388570",
     "exception": false,
     "start_time": "2021-12-07T14:57:59.402141",
     "status": "completed"
    },
    "tags": []
   },
   "outputs": [],
   "source": [
    "import numpy as np\n",
    "import pandas as pd\n",
    "import matplotlib.pyplot as plt\n",
    "from sklearn import svm, datasets\n",
    "from sklearn.naive_bayes import BernoulliNB, MultinomialNB, GaussianNB\n",
    "from sklearn.neural_network import MLPClassifier\n",
    "from sklearn.model_selection import train_test_split, GridSearchCV\n",
    "from sklearn.metrics import accuracy_score, classification_report\n",
    "from sklearn.preprocessing import StandardScaler\n",
    "from sklearn.neighbors import KNeighborsClassifier\n",
    "import time"
   ]
  },
  {
   "cell_type": "markdown",
   "id": "b00397a7",
   "metadata": {
    "papermill": {
     "duration": 0.026226,
     "end_time": "2021-12-07T14:58:00.441590",
     "exception": false,
     "start_time": "2021-12-07T14:58:00.415364",
     "status": "completed"
    },
    "tags": []
   },
   "source": [
    "Import data and take sample of 10,000 observations"
   ]
  },
  {
   "cell_type": "code",
   "execution_count": 2,
   "id": "0806b49c",
   "metadata": {
    "execution": {
     "iopub.execute_input": "2021-12-07T14:58:00.499994Z",
     "iopub.status.busy": "2021-12-07T14:58:00.499440Z",
     "iopub.status.idle": "2021-12-07T14:58:05.588895Z",
     "shell.execute_reply": "2021-12-07T14:58:05.588316Z",
     "shell.execute_reply.started": "2021-12-06T20:52:14.421752Z"
    },
    "papermill": {
     "duration": 5.121014,
     "end_time": "2021-12-07T14:58:05.589021",
     "exception": false,
     "start_time": "2021-12-07T14:58:00.468007",
     "status": "completed"
    },
    "tags": []
   },
   "outputs": [],
   "source": [
    "# import data\n",
    "# all_data = pd.read_csv('icml_face_data.csv')\n",
    "all_data = pd.read_csv('../input/facial-expression-recognition-challenge/icml_face_data.csv/icml_face_data.csv')\n",
    "# pd.read_csv('/kaggle/input/challenges-in-representation-learning-facial-expression-recognition-challenge/train.csv')\n",
    "all_data = all_data.sample(n=10000, random_state=1)\n",
    "\n",
    "accuracy = {}\n",
    "params = {}"
   ]
  },
  {
   "cell_type": "code",
   "execution_count": 3,
   "id": "c016c4cc",
   "metadata": {
    "execution": {
     "iopub.execute_input": "2021-12-07T14:58:05.648894Z",
     "iopub.status.busy": "2021-12-07T14:58:05.647331Z",
     "iopub.status.idle": "2021-12-07T14:58:05.649495Z",
     "shell.execute_reply": "2021-12-07T14:58:05.649908Z",
     "shell.execute_reply.started": "2021-12-06T20:52:16.943188Z"
    },
    "papermill": {
     "duration": 0.033462,
     "end_time": "2021-12-07T14:58:05.650026",
     "exception": false,
     "start_time": "2021-12-07T14:58:05.616564",
     "status": "completed"
    },
    "tags": []
   },
   "outputs": [],
   "source": [
    "#all_data.head()"
   ]
  },
  {
   "cell_type": "code",
   "execution_count": 4,
   "id": "30bc1ff2",
   "metadata": {
    "execution": {
     "iopub.execute_input": "2021-12-07T14:58:05.710772Z",
     "iopub.status.busy": "2021-12-07T14:58:05.710178Z",
     "iopub.status.idle": "2021-12-07T14:58:05.713067Z",
     "shell.execute_reply": "2021-12-07T14:58:05.712676Z",
     "shell.execute_reply.started": "2021-12-06T20:52:16.955071Z"
    },
    "papermill": {
     "duration": 0.03671,
     "end_time": "2021-12-07T14:58:05.713207",
     "exception": false,
     "start_time": "2021-12-07T14:58:05.676497",
     "status": "completed"
    },
    "tags": []
   },
   "outputs": [],
   "source": [
    "all_data.rename({' Usage': 'Usage', ' pixels': 'pixels'}, axis=1, inplace=True)"
   ]
  },
  {
   "cell_type": "markdown",
   "id": "0d5e93bf",
   "metadata": {
    "papermill": {
     "duration": 0.027045,
     "end_time": "2021-12-07T14:58:05.766689",
     "exception": false,
     "start_time": "2021-12-07T14:58:05.739644",
     "status": "completed"
    },
    "tags": []
   },
   "source": [
    "Create function to convert to numpy array and scale pixel values to [0,1]"
   ]
  },
  {
   "cell_type": "code",
   "execution_count": 5,
   "id": "f3baa4bc",
   "metadata": {
    "execution": {
     "iopub.execute_input": "2021-12-07T14:58:05.826562Z",
     "iopub.status.busy": "2021-12-07T14:58:05.825756Z",
     "iopub.status.idle": "2021-12-07T14:58:13.625504Z",
     "shell.execute_reply": "2021-12-07T14:58:13.624537Z",
     "shell.execute_reply.started": "2021-12-06T20:52:47.956404Z"
    },
    "papermill": {
     "duration": 7.832596,
     "end_time": "2021-12-07T14:58:13.625656",
     "exception": false,
     "start_time": "2021-12-07T14:58:05.793060",
     "status": "completed"
    },
    "tags": []
   },
   "outputs": [],
   "source": [
    "def scale_pixels_to_arr(pixels):\n",
    "    array = np.array(pixels.split(),'float64')/255\n",
    "    return array\n",
    "\n",
    "all_data['pixels_arr'] = all_data['pixels'].apply(scale_pixels_to_arr)"
   ]
  },
  {
   "cell_type": "code",
   "execution_count": 6,
   "id": "8a9f6e92",
   "metadata": {
    "execution": {
     "iopub.execute_input": "2021-12-07T14:58:13.686933Z",
     "iopub.status.busy": "2021-12-07T14:58:13.686094Z",
     "iopub.status.idle": "2021-12-07T14:58:13.704029Z",
     "shell.execute_reply": "2021-12-07T14:58:13.704471Z",
     "shell.execute_reply.started": "2021-12-06T20:52:55.6685Z"
    },
    "papermill": {
     "duration": 0.051308,
     "end_time": "2021-12-07T14:58:13.704614",
     "exception": false,
     "start_time": "2021-12-07T14:58:13.653306",
     "status": "completed"
    },
    "tags": []
   },
   "outputs": [
    {
     "data": {
      "text/html": [
       "<div>\n",
       "<style scoped>\n",
       "    .dataframe tbody tr th:only-of-type {\n",
       "        vertical-align: middle;\n",
       "    }\n",
       "\n",
       "    .dataframe tbody tr th {\n",
       "        vertical-align: top;\n",
       "    }\n",
       "\n",
       "    .dataframe thead th {\n",
       "        text-align: right;\n",
       "    }\n",
       "</style>\n",
       "<table border=\"1\" class=\"dataframe\">\n",
       "  <thead>\n",
       "    <tr style=\"text-align: right;\">\n",
       "      <th></th>\n",
       "      <th>emotion</th>\n",
       "      <th>Usage</th>\n",
       "      <th>pixels</th>\n",
       "      <th>pixels_arr</th>\n",
       "    </tr>\n",
       "  </thead>\n",
       "  <tbody>\n",
       "    <tr>\n",
       "      <th>35624</th>\n",
       "      <td>0</td>\n",
       "      <td>PrivateTest</td>\n",
       "      <td>122 107 68 76 101 125 141 144 143 159 161 123 ...</td>\n",
       "      <td>[0.47843137254901963, 0.4196078431372549, 0.26...</td>\n",
       "    </tr>\n",
       "    <tr>\n",
       "      <th>12788</th>\n",
       "      <td>3</td>\n",
       "      <td>Training</td>\n",
       "      <td>151 151 165 135 131 141 185 164 140 160 163 12...</td>\n",
       "      <td>[0.592156862745098, 0.592156862745098, 0.64705...</td>\n",
       "    </tr>\n",
       "    <tr>\n",
       "      <th>7821</th>\n",
       "      <td>3</td>\n",
       "      <td>Training</td>\n",
       "      <td>88 68 83 107 84 62 91 147 159 159 158 154 150 ...</td>\n",
       "      <td>[0.34509803921568627, 0.26666666666666666, 0.3...</td>\n",
       "    </tr>\n",
       "    <tr>\n",
       "      <th>31831</th>\n",
       "      <td>6</td>\n",
       "      <td>PublicTest</td>\n",
       "      <td>0 0 0 0 0 0 0 0 0 0 0 0 0 0 0 2 0 109 193 177 ...</td>\n",
       "      <td>[0.0, 0.0, 0.0, 0.0, 0.0, 0.0, 0.0, 0.0, 0.0, ...</td>\n",
       "    </tr>\n",
       "    <tr>\n",
       "      <th>16799</th>\n",
       "      <td>3</td>\n",
       "      <td>Training</td>\n",
       "      <td>231 193 124 96 115 107 84 76 84 84 79 72 67 58...</td>\n",
       "      <td>[0.9058823529411765, 0.7568627450980392, 0.486...</td>\n",
       "    </tr>\n",
       "  </tbody>\n",
       "</table>\n",
       "</div>"
      ],
      "text/plain": [
       "       emotion        Usage  \\\n",
       "35624        0  PrivateTest   \n",
       "12788        3     Training   \n",
       "7821         3     Training   \n",
       "31831        6   PublicTest   \n",
       "16799        3     Training   \n",
       "\n",
       "                                                  pixels  \\\n",
       "35624  122 107 68 76 101 125 141 144 143 159 161 123 ...   \n",
       "12788  151 151 165 135 131 141 185 164 140 160 163 12...   \n",
       "7821   88 68 83 107 84 62 91 147 159 159 158 154 150 ...   \n",
       "31831  0 0 0 0 0 0 0 0 0 0 0 0 0 0 0 2 0 109 193 177 ...   \n",
       "16799  231 193 124 96 115 107 84 76 84 84 79 72 67 58...   \n",
       "\n",
       "                                              pixels_arr  \n",
       "35624  [0.47843137254901963, 0.4196078431372549, 0.26...  \n",
       "12788  [0.592156862745098, 0.592156862745098, 0.64705...  \n",
       "7821   [0.34509803921568627, 0.26666666666666666, 0.3...  \n",
       "31831  [0.0, 0.0, 0.0, 0.0, 0.0, 0.0, 0.0, 0.0, 0.0, ...  \n",
       "16799  [0.9058823529411765, 0.7568627450980392, 0.486...  "
      ]
     },
     "execution_count": 6,
     "metadata": {},
     "output_type": "execute_result"
    }
   ],
   "source": [
    "all_data.head()"
   ]
  },
  {
   "cell_type": "code",
   "execution_count": 7,
   "id": "c728048b",
   "metadata": {
    "execution": {
     "iopub.execute_input": "2021-12-07T14:58:13.767932Z",
     "iopub.status.busy": "2021-12-07T14:58:13.766984Z",
     "iopub.status.idle": "2021-12-07T14:58:13.774906Z",
     "shell.execute_reply": "2021-12-07T14:58:13.774477Z",
     "shell.execute_reply.started": "2021-12-06T21:27:05.552628Z"
    },
    "papermill": {
     "duration": 0.042564,
     "end_time": "2021-12-07T14:58:13.775017",
     "exception": false,
     "start_time": "2021-12-07T14:58:13.732453",
     "status": "completed"
    },
    "tags": []
   },
   "outputs": [],
   "source": [
    "all_data.loc[all_data['emotion'].isin([0,1,4]), 'emotion_group'] = 'Angry/Sad'\n",
    "all_data.loc[all_data['emotion'].isin([2,5]), 'emotion_group'] = 'Fear/Surprise'\n",
    "all_data.loc[all_data['emotion'] == 3, 'emotion_group'] = 'Happy'\n",
    "all_data.loc[all_data['emotion'] == 6, 'emotion_group'] = 'Neutral'"
   ]
  },
  {
   "cell_type": "code",
   "execution_count": 8,
   "id": "0587e20e",
   "metadata": {
    "execution": {
     "iopub.execute_input": "2021-12-07T14:58:13.852093Z",
     "iopub.status.busy": "2021-12-07T14:58:13.834186Z",
     "iopub.status.idle": "2021-12-07T14:58:13.859059Z",
     "shell.execute_reply": "2021-12-07T14:58:13.859505Z",
     "shell.execute_reply.started": "2021-12-06T21:27:07.611382Z"
    },
    "papermill": {
     "duration": 0.057583,
     "end_time": "2021-12-07T14:58:13.859646",
     "exception": false,
     "start_time": "2021-12-07T14:58:13.802063",
     "status": "completed"
    },
    "tags": []
   },
   "outputs": [
    {
     "data": {
      "text/html": [
       "<div>\n",
       "<style scoped>\n",
       "    .dataframe tbody tr th:only-of-type {\n",
       "        vertical-align: middle;\n",
       "    }\n",
       "\n",
       "    .dataframe tbody tr th {\n",
       "        vertical-align: top;\n",
       "    }\n",
       "\n",
       "    .dataframe thead th {\n",
       "        text-align: right;\n",
       "    }\n",
       "</style>\n",
       "<table border=\"1\" class=\"dataframe\">\n",
       "  <thead>\n",
       "    <tr style=\"text-align: right;\">\n",
       "      <th></th>\n",
       "      <th>emotion</th>\n",
       "      <th>Usage</th>\n",
       "      <th>pixels</th>\n",
       "      <th>pixels_arr</th>\n",
       "      <th>emotion_group</th>\n",
       "    </tr>\n",
       "  </thead>\n",
       "  <tbody>\n",
       "    <tr>\n",
       "      <th>35624</th>\n",
       "      <td>0</td>\n",
       "      <td>PrivateTest</td>\n",
       "      <td>122 107 68 76 101 125 141 144 143 159 161 123 ...</td>\n",
       "      <td>[0.47843137254901963, 0.4196078431372549, 0.26...</td>\n",
       "      <td>Angry/Sad</td>\n",
       "    </tr>\n",
       "    <tr>\n",
       "      <th>12788</th>\n",
       "      <td>3</td>\n",
       "      <td>Training</td>\n",
       "      <td>151 151 165 135 131 141 185 164 140 160 163 12...</td>\n",
       "      <td>[0.592156862745098, 0.592156862745098, 0.64705...</td>\n",
       "      <td>Happy</td>\n",
       "    </tr>\n",
       "    <tr>\n",
       "      <th>7821</th>\n",
       "      <td>3</td>\n",
       "      <td>Training</td>\n",
       "      <td>88 68 83 107 84 62 91 147 159 159 158 154 150 ...</td>\n",
       "      <td>[0.34509803921568627, 0.26666666666666666, 0.3...</td>\n",
       "      <td>Happy</td>\n",
       "    </tr>\n",
       "    <tr>\n",
       "      <th>31831</th>\n",
       "      <td>6</td>\n",
       "      <td>PublicTest</td>\n",
       "      <td>0 0 0 0 0 0 0 0 0 0 0 0 0 0 0 2 0 109 193 177 ...</td>\n",
       "      <td>[0.0, 0.0, 0.0, 0.0, 0.0, 0.0, 0.0, 0.0, 0.0, ...</td>\n",
       "      <td>Neutral</td>\n",
       "    </tr>\n",
       "    <tr>\n",
       "      <th>16799</th>\n",
       "      <td>3</td>\n",
       "      <td>Training</td>\n",
       "      <td>231 193 124 96 115 107 84 76 84 84 79 72 67 58...</td>\n",
       "      <td>[0.9058823529411765, 0.7568627450980392, 0.486...</td>\n",
       "      <td>Happy</td>\n",
       "    </tr>\n",
       "    <tr>\n",
       "      <th>...</th>\n",
       "      <td>...</td>\n",
       "      <td>...</td>\n",
       "      <td>...</td>\n",
       "      <td>...</td>\n",
       "      <td>...</td>\n",
       "    </tr>\n",
       "    <tr>\n",
       "      <th>7198</th>\n",
       "      <td>6</td>\n",
       "      <td>Training</td>\n",
       "      <td>62 57 24 37 44 53 71 79 78 83 88 86 75 59 51 4...</td>\n",
       "      <td>[0.24313725490196078, 0.2235294117647059, 0.09...</td>\n",
       "      <td>Neutral</td>\n",
       "    </tr>\n",
       "    <tr>\n",
       "      <th>14808</th>\n",
       "      <td>6</td>\n",
       "      <td>Training</td>\n",
       "      <td>255 253 247 244 239 223 183 109 45 20 32 102 1...</td>\n",
       "      <td>[1.0, 0.9921568627450981, 0.9686274509803922, ...</td>\n",
       "      <td>Neutral</td>\n",
       "    </tr>\n",
       "    <tr>\n",
       "      <th>6494</th>\n",
       "      <td>4</td>\n",
       "      <td>Training</td>\n",
       "      <td>114 69 61 62 62 59 55 52 54 56 57 62 72 78 83 ...</td>\n",
       "      <td>[0.4470588235294118, 0.27058823529411763, 0.23...</td>\n",
       "      <td>Angry/Sad</td>\n",
       "    </tr>\n",
       "    <tr>\n",
       "      <th>17024</th>\n",
       "      <td>0</td>\n",
       "      <td>Training</td>\n",
       "      <td>142 145 152 134 64 63 65 75 55 38 70 106 131 1...</td>\n",
       "      <td>[0.5568627450980392, 0.5686274509803921, 0.596...</td>\n",
       "      <td>Angry/Sad</td>\n",
       "    </tr>\n",
       "    <tr>\n",
       "      <th>16485</th>\n",
       "      <td>4</td>\n",
       "      <td>Training</td>\n",
       "      <td>85 92 102 103 91 91 92 96 95 94 96 98 104 108 ...</td>\n",
       "      <td>[0.3333333333333333, 0.3607843137254902, 0.4, ...</td>\n",
       "      <td>Angry/Sad</td>\n",
       "    </tr>\n",
       "  </tbody>\n",
       "</table>\n",
       "<p>10000 rows × 5 columns</p>\n",
       "</div>"
      ],
      "text/plain": [
       "       emotion        Usage  \\\n",
       "35624        0  PrivateTest   \n",
       "12788        3     Training   \n",
       "7821         3     Training   \n",
       "31831        6   PublicTest   \n",
       "16799        3     Training   \n",
       "...        ...          ...   \n",
       "7198         6     Training   \n",
       "14808        6     Training   \n",
       "6494         4     Training   \n",
       "17024        0     Training   \n",
       "16485        4     Training   \n",
       "\n",
       "                                                  pixels  \\\n",
       "35624  122 107 68 76 101 125 141 144 143 159 161 123 ...   \n",
       "12788  151 151 165 135 131 141 185 164 140 160 163 12...   \n",
       "7821   88 68 83 107 84 62 91 147 159 159 158 154 150 ...   \n",
       "31831  0 0 0 0 0 0 0 0 0 0 0 0 0 0 0 2 0 109 193 177 ...   \n",
       "16799  231 193 124 96 115 107 84 76 84 84 79 72 67 58...   \n",
       "...                                                  ...   \n",
       "7198   62 57 24 37 44 53 71 79 78 83 88 86 75 59 51 4...   \n",
       "14808  255 253 247 244 239 223 183 109 45 20 32 102 1...   \n",
       "6494   114 69 61 62 62 59 55 52 54 56 57 62 72 78 83 ...   \n",
       "17024  142 145 152 134 64 63 65 75 55 38 70 106 131 1...   \n",
       "16485  85 92 102 103 91 91 92 96 95 94 96 98 104 108 ...   \n",
       "\n",
       "                                              pixels_arr emotion_group  \n",
       "35624  [0.47843137254901963, 0.4196078431372549, 0.26...     Angry/Sad  \n",
       "12788  [0.592156862745098, 0.592156862745098, 0.64705...         Happy  \n",
       "7821   [0.34509803921568627, 0.26666666666666666, 0.3...         Happy  \n",
       "31831  [0.0, 0.0, 0.0, 0.0, 0.0, 0.0, 0.0, 0.0, 0.0, ...       Neutral  \n",
       "16799  [0.9058823529411765, 0.7568627450980392, 0.486...         Happy  \n",
       "...                                                  ...           ...  \n",
       "7198   [0.24313725490196078, 0.2235294117647059, 0.09...       Neutral  \n",
       "14808  [1.0, 0.9921568627450981, 0.9686274509803922, ...       Neutral  \n",
       "6494   [0.4470588235294118, 0.27058823529411763, 0.23...     Angry/Sad  \n",
       "17024  [0.5568627450980392, 0.5686274509803921, 0.596...     Angry/Sad  \n",
       "16485  [0.3333333333333333, 0.3607843137254902, 0.4, ...     Angry/Sad  \n",
       "\n",
       "[10000 rows x 5 columns]"
      ]
     },
     "execution_count": 8,
     "metadata": {},
     "output_type": "execute_result"
    }
   ],
   "source": [
    "all_data"
   ]
  },
  {
   "cell_type": "code",
   "execution_count": 9,
   "id": "30e659b0",
   "metadata": {
    "execution": {
     "iopub.execute_input": "2021-12-07T14:58:13.923096Z",
     "iopub.status.busy": "2021-12-07T14:58:13.921944Z",
     "iopub.status.idle": "2021-12-07T14:58:13.986637Z",
     "shell.execute_reply": "2021-12-07T14:58:13.985916Z",
     "shell.execute_reply.started": "2021-12-06T21:27:46.203867Z"
    },
    "papermill": {
     "duration": 0.098903,
     "end_time": "2021-12-07T14:58:13.986776",
     "exception": false,
     "start_time": "2021-12-07T14:58:13.887873",
     "status": "completed"
    },
    "tags": []
   },
   "outputs": [],
   "source": [
    "def image_reshape(data):\n",
    "    image = np.reshape(data['pixels_arr'].to_list(),(data.shape[0],48,48,1))\n",
    "    return image\n",
    "\n",
    "X = image_reshape(all_data)\n",
    "y = all_data['emotion']\n",
    "y_group = all_data['emotion_group']"
   ]
  },
  {
   "cell_type": "code",
   "execution_count": 10,
   "id": "009891b2",
   "metadata": {
    "execution": {
     "iopub.execute_input": "2021-12-07T14:58:14.063826Z",
     "iopub.status.busy": "2021-12-07T14:58:14.062934Z",
     "iopub.status.idle": "2021-12-07T14:58:14.276769Z",
     "shell.execute_reply": "2021-12-07T14:58:14.277308Z",
     "shell.execute_reply.started": "2021-12-06T20:53:14.037194Z"
    },
    "papermill": {
     "duration": 0.261719,
     "end_time": "2021-12-07T14:58:14.277455",
     "exception": false,
     "start_time": "2021-12-07T14:58:14.015736",
     "status": "completed"
    },
    "tags": []
   },
   "outputs": [
    {
     "data": {
      "image/png": "[encoded data removed]",
      "text/plain": [
       "<Figure size 864x432 with 1 Axes>"
      ]
     },
     "metadata": {
      "needs_background": "light"
     },
     "output_type": "display_data"
    }
   ],
   "source": [
    "emotion_prop = (all_data.emotion.value_counts() / len(all_data)).to_frame().sort_index(ascending=True)\n",
    "\n",
    "emotions = ['Angry','Disgust','Fear','Happy','Sad','Surprise','Neutral']\n",
    "palette = ['orchid', 'lightcoral', 'orange', 'gold', 'lightgreen', 'deepskyblue', 'cornflowerblue']\n",
    "\n",
    "plt.figure(figsize=[12,6])\n",
    "\n",
    "plt.bar(x=emotions, height=emotion_prop['emotion'], color=palette, edgecolor='black')\n",
    "    \n",
    "plt.xlabel('Emotion')\n",
    "plt.ylabel('Proportion')\n",
    "plt.title('Emotion Label Proportions')\n",
    "plt.show()"
   ]
  },
  {
   "cell_type": "code",
   "execution_count": 11,
   "id": "c1f5a4c4",
   "metadata": {
    "execution": {
     "iopub.execute_input": "2021-12-07T14:58:14.342185Z",
     "iopub.status.busy": "2021-12-07T14:58:14.341255Z",
     "iopub.status.idle": "2021-12-07T14:58:15.665247Z",
     "shell.execute_reply": "2021-12-07T14:58:15.665673Z",
     "shell.execute_reply.started": "2021-12-06T20:53:18.965521Z"
    },
    "papermill": {
     "duration": 1.35911,
     "end_time": "2021-12-07T14:58:15.665820",
     "exception": false,
     "start_time": "2021-12-07T14:58:14.306710",
     "status": "completed"
    },
    "tags": []
   },
   "outputs": [
    {
     "data": {
      "image/png": "[encoded data removed]",
      "text/plain": [
       "<Figure size 432x288 with 35 Axes>"
      ]
     },
     "metadata": {
      "needs_background": "light"
     },
     "output_type": "display_data"
    }
   ],
   "source": [
    "row = 0\n",
    "for emotion in list(range(7)):\n",
    "\n",
    "    all_emotion_images = all_data[all_data['emotion'] == emotion]\n",
    "    for i in range(5):\n",
    "        \n",
    "        img = all_emotion_images.iloc[i,].pixels_arr.reshape(48,48)\n",
    "        lab = emotions[emotion]\n",
    "        \n",
    "        plt.subplot(7,5,row+i+1)\n",
    "        plt.imshow(img, cmap='binary_r')\n",
    "        plt.axis('off')\n",
    "    plt.text(-600, 27, s = str(lab), fontsize=10)\n",
    "    row += 5\n",
    "\n",
    "plt.show()"
   ]
  },
  {
   "cell_type": "code",
   "execution_count": 12,
   "id": "669af6f9",
   "metadata": {
    "execution": {
     "iopub.execute_input": "2021-12-07T14:58:15.731842Z",
     "iopub.status.busy": "2021-12-07T14:58:15.731102Z",
     "iopub.status.idle": "2021-12-07T14:58:15.742649Z",
     "shell.execute_reply": "2021-12-07T14:58:15.743056Z",
     "shell.execute_reply.started": "2021-12-06T21:30:13.011077Z"
    },
    "papermill": {
     "duration": 0.046259,
     "end_time": "2021-12-07T14:58:15.743202",
     "exception": false,
     "start_time": "2021-12-07T14:58:15.696943",
     "status": "completed"
    },
    "tags": []
   },
   "outputs": [
    {
     "name": "stdout",
     "output_type": "stream",
     "text": [
      "Pixels as Single array\n",
      "Training data shape:  (8000,)\n",
      "Test data shape (2000,)\n"
     ]
    }
   ],
   "source": [
    "X_train, X_test, y_train, y_test = train_test_split(all_data['pixels_arr'], y, test_size=0.2, random_state=12345)\n",
    "print(\"Pixels as Single array\")\n",
    "print(\"Training data shape: \", X_train.shape)\n",
    "print(\"Test data shape\", X_test.shape)"
   ]
  },
  {
   "cell_type": "code",
   "execution_count": 13,
   "id": "c04cb400",
   "metadata": {
    "execution": {
     "iopub.execute_input": "2021-12-07T14:58:15.881754Z",
     "iopub.status.busy": "2021-12-07T14:58:15.841833Z",
     "iopub.status.idle": "2021-12-07T14:58:28.033889Z",
     "shell.execute_reply": "2021-12-07T14:58:28.033380Z",
     "shell.execute_reply.started": "2021-12-06T21:30:18.614642Z"
    },
    "papermill": {
     "duration": 12.260593,
     "end_time": "2021-12-07T14:58:28.034010",
     "exception": false,
     "start_time": "2021-12-07T14:58:15.773417",
     "status": "completed"
    },
    "tags": []
   },
   "outputs": [
    {
     "name": "stdout",
     "output_type": "stream",
     "text": [
      "Pixels as columns\n",
      "Training data shape:  (8000, 2304)\n",
      "Test data shape (2000, 2304)\n"
     ]
    }
   ],
   "source": [
    "x_unraveled = pd.DataFrame(list(map(np.ravel, all_data['pixels_arr'])))\n",
    "X_train_unrav, X_test_unrav, y_train_unrav, y_test_unrav = train_test_split(x_unraveled, y, test_size=0.2, random_state=12345)\n",
    "print(\"Pixels as columns\")\n",
    "print(\"Training data shape: \", X_train_unrav.shape)\n",
    "print(\"Test data shape\", X_test_unrav.shape)\n"
   ]
  },
  {
   "cell_type": "code",
   "execution_count": 14,
   "id": "12b2d5d8",
   "metadata": {
    "execution": {
     "iopub.execute_input": "2021-12-07T14:58:28.109520Z",
     "iopub.status.busy": "2021-12-07T14:58:28.108592Z",
     "iopub.status.idle": "2021-12-07T14:58:28.168275Z",
     "shell.execute_reply": "2021-12-07T14:58:28.168805Z",
     "shell.execute_reply.started": "2021-12-06T21:30:31.178239Z"
    },
    "papermill": {
     "duration": 0.099013,
     "end_time": "2021-12-07T14:58:28.168981",
     "exception": false,
     "start_time": "2021-12-07T14:58:28.069968",
     "status": "completed"
    },
    "tags": []
   },
   "outputs": [
    {
     "name": "stdout",
     "output_type": "stream",
     "text": [
      "Converted Images\n",
      "Training data shape:  (8000, 48, 48, 1)\n",
      "Test data shape (2000, 48, 48, 1)\n"
     ]
    }
   ],
   "source": [
    "X_train_im, X_test_im, y_train_im, y_test_im = train_test_split(X, y, test_size=0.2, random_state=12345)\n",
    "print(\"Converted Images\")\n",
    "print(\"Training data shape: \", X_train_im.shape)\n",
    "print(\"Test data shape\", X_test_im.shape)"
   ]
  },
  {
   "cell_type": "markdown",
   "id": "17d17e79",
   "metadata": {
    "papermill": {
     "duration": 0.034549,
     "end_time": "2021-12-07T14:58:28.238405",
     "exception": false,
     "start_time": "2021-12-07T14:58:28.203856",
     "status": "completed"
    },
    "tags": []
   },
   "source": [
    "Using additional emotion groupings (`y_group`):"
   ]
  },
  {
   "cell_type": "code",
   "execution_count": 15,
   "id": "f2f6cce2",
   "metadata": {
    "execution": {
     "iopub.execute_input": "2021-12-07T14:58:28.310220Z",
     "iopub.status.busy": "2021-12-07T14:58:28.308967Z",
     "iopub.status.idle": "2021-12-07T14:58:28.451267Z",
     "shell.execute_reply": "2021-12-07T14:58:28.450747Z",
     "shell.execute_reply.started": "2021-12-06T21:30:31.230078Z"
    },
    "papermill": {
     "duration": 0.179931,
     "end_time": "2021-12-07T14:58:28.451405",
     "exception": false,
     "start_time": "2021-12-07T14:58:28.271474",
     "status": "completed"
    },
    "tags": []
   },
   "outputs": [],
   "source": [
    "X_train, X_test, y_train_g, y_test_g = train_test_split(all_data['pixels_arr'], y_group, test_size=0.2, random_state=12345)\n",
    "X_train_unrav, X_test_unrav, y_train_unrav_g, y_test_unrav_g = train_test_split(x_unraveled, y_group, test_size=0.2, random_state=12345)\n",
    "X_train_im, X_test_im, y_train_im_g, y_test_im_g = train_test_split(X, y_group, test_size=0.2, random_state=12345)"
   ]
  },
  {
   "cell_type": "markdown",
   "id": "ea4fc0c2",
   "metadata": {
    "papermill": {
     "duration": 0.030639,
     "end_time": "2021-12-07T14:58:28.513260",
     "exception": false,
     "start_time": "2021-12-07T14:58:28.482621",
     "status": "completed"
    },
    "tags": []
   },
   "source": [
    "## K Nearest Neighbors Model"
   ]
  },
  {
   "cell_type": "code",
   "execution_count": 16,
   "id": "f2aa6b97",
   "metadata": {
    "execution": {
     "iopub.execute_input": "2021-12-07T14:58:28.582146Z",
     "iopub.status.busy": "2021-12-07T14:58:28.580910Z",
     "iopub.status.idle": "2021-12-07T15:57:28.760251Z",
     "shell.execute_reply": "2021-12-07T15:57:28.760725Z",
     "shell.execute_reply.started": "2021-12-06T20:54:17.501121Z"
    },
    "papermill": {
     "duration": 3540.216605,
     "end_time": "2021-12-07T15:57:28.760884",
     "exception": false,
     "start_time": "2021-12-07T14:58:28.544279",
     "status": "completed"
    },
    "tags": []
   },
   "outputs": [
    {
     "name": "stdout",
     "output_type": "stream",
     "text": [
      "Fitting 5 folds for each of 15 candidates, totalling 75 fits\n"
     ]
    },
    {
     "name": "stderr",
     "output_type": "stream",
     "text": [
      "[Parallel(n_jobs=1)]: Using backend SequentialBackend with 1 concurrent workers.\n",
      "[Parallel(n_jobs=1)]: Done  75 out of  75 | elapsed: 57.6min finished\n"
     ]
    },
    {
     "name": "stdout",
     "output_type": "stream",
     "text": [
      "{'n_neighbors': 15}\n",
      "The model is 28.15% accurate\n",
      "Classification Report:               precision    recall  f1-score   support\n",
      "\n",
      "           0       0.18      0.11      0.13       268\n",
      "           1       0.00      0.00      0.00        27\n",
      "           2       0.16      0.07      0.10       278\n",
      "           3       0.32      0.60      0.42       503\n",
      "           4       0.28      0.17      0.21       352\n",
      "           5       0.43      0.19      0.26       234\n",
      "           6       0.24      0.32      0.28       338\n",
      "\n",
      "    accuracy                           0.28      2000\n",
      "   macro avg       0.23      0.21      0.20      2000\n",
      "weighted avg       0.27      0.28      0.25      2000\n",
      "\n"
     ]
    }
   ],
   "source": [
    "knn = KNeighborsClassifier(algorithm='auto')\n",
    "param_grid = dict(n_neighbors=list(range(1, 16)))\n",
    "model_KNN = GridSearchCV(knn, param_grid, cv=5, scoring='accuracy',verbose=1)\n",
    "\n",
    "model_KNN.fit(X_train_unrav, y_train)\n",
    "y_pred_KNN = model_KNN.predict(X_test_unrav)\n",
    "\n",
    "print(model_KNN.best_params_)\n",
    "\n",
    "accuracy['KNN'] = accuracy_score(y_pred_KNN, y_test)\n",
    "params['KNN'] = model_KNN.best_params_\n",
    "print(f\"The model is {accuracy['KNN']*100:.2f}% accurate\")\n",
    "\n",
    "print('Classification Report:',classification_report(y_test,y_pred_KNN))"
   ]
  },
  {
   "cell_type": "markdown",
   "id": "11759bae",
   "metadata": {
    "papermill": {
     "duration": 0.033011,
     "end_time": "2021-12-07T15:57:28.826582",
     "exception": false,
     "start_time": "2021-12-07T15:57:28.793571",
     "status": "completed"
    },
    "tags": []
   },
   "source": [
    "Additional groupings:"
   ]
  },
  {
   "cell_type": "code",
   "execution_count": 17,
   "id": "afae7ecb",
   "metadata": {
    "execution": {
     "iopub.execute_input": "2021-12-07T15:57:28.904785Z",
     "iopub.status.busy": "2021-12-07T15:57:28.903816Z",
     "iopub.status.idle": "2021-12-07T16:56:18.829887Z",
     "shell.execute_reply": "2021-12-07T16:56:18.830363Z"
    },
    "papermill": {
     "duration": 3529.971664,
     "end_time": "2021-12-07T16:56:18.830526",
     "exception": false,
     "start_time": "2021-12-07T15:57:28.858862",
     "status": "completed"
    },
    "tags": []
   },
   "outputs": [
    {
     "name": "stdout",
     "output_type": "stream",
     "text": [
      "Fitting 5 folds for each of 15 candidates, totalling 75 fits\n"
     ]
    },
    {
     "name": "stderr",
     "output_type": "stream",
     "text": [
      "[Parallel(n_jobs=1)]: Using backend SequentialBackend with 1 concurrent workers.\n",
      "[Parallel(n_jobs=1)]: Done  75 out of  75 | elapsed: 57.5min finished\n"
     ]
    },
    {
     "name": "stdout",
     "output_type": "stream",
     "text": [
      "{'n_neighbors': 2}\n",
      "The model is 36.95% accurate\n",
      "Classification Report:                precision    recall  f1-score   support\n",
      "\n",
      "    Angry/Sad       0.37      0.54      0.44       647\n",
      "Fear/Surprise       0.39      0.39      0.39       512\n",
      "        Happy       0.36      0.30      0.33       503\n",
      "      Neutral       0.30      0.12      0.17       338\n",
      "\n",
      "     accuracy                           0.37      2000\n",
      "    macro avg       0.36      0.34      0.33      2000\n",
      " weighted avg       0.36      0.37      0.35      2000\n",
      "\n"
     ]
    }
   ],
   "source": [
    "knn = KNeighborsClassifier(algorithm='auto')\n",
    "param_grid = dict(n_neighbors=list(range(1, 16)))\n",
    "model_KNN = GridSearchCV(knn, param_grid, cv=5, scoring='accuracy',verbose=1)\n",
    "\n",
    "model_KNN.fit(X_train_unrav, y_train_g)\n",
    "y_pred_KNN = model_KNN.predict(X_test_unrav)\n",
    "\n",
    "print(model_KNN.best_params_)\n",
    "\n",
    "accuracy['KNN_group'] = accuracy_score(y_pred_KNN, y_test_g)\n",
    "params['KNN_group'] = model_KNN.best_params_\n",
    "print(f\"The model is {accuracy['KNN_group']*100:.2f}% accurate\")\n",
    "\n",
    "print('Classification Report:',classification_report(y_test_g,y_pred_KNN))"
   ]
  },
  {
   "cell_type": "markdown",
   "id": "06726a30",
   "metadata": {
    "papermill": {
     "duration": 0.033177,
     "end_time": "2021-12-07T16:56:18.897049",
     "exception": false,
     "start_time": "2021-12-07T16:56:18.863872",
     "status": "completed"
    },
    "tags": []
   },
   "source": [
    "## SVM Model"
   ]
  },
  {
   "cell_type": "code",
   "execution_count": 18,
   "id": "37e69b88",
   "metadata": {
    "execution": {
     "iopub.execute_input": "2021-12-07T16:56:18.968730Z",
     "iopub.status.busy": "2021-12-07T16:56:18.967915Z",
     "iopub.status.idle": "2021-12-07T16:56:18.969884Z",
     "shell.execute_reply": "2021-12-07T16:56:18.970323Z",
     "shell.execute_reply.started": "2021-12-06T20:46:23.080775Z"
    },
    "papermill": {
     "duration": 0.039787,
     "end_time": "2021-12-07T16:56:18.970457",
     "exception": false,
     "start_time": "2021-12-07T16:56:18.930670",
     "status": "completed"
    },
    "tags": []
   },
   "outputs": [],
   "source": [
    "# # param_grid = {'C':[1,10],'gamma':[0.001,0.1],'kernel':['rbf','poly']}\n",
    "# param_grid = {'C':[0.01,0.1,1,10,100],'gamma':[0.0001,0.001,0.1,1],'kernel':['rbf','poly', 'linear']}\n",
    "# svc = svm.SVC(probability=True)\n",
    "# print(\"The training of the model is started, please wait for while as it may take few minutes to complete\")\n",
    "\n",
    "# model_SVM = GridSearchCV(svc,param_grid)\n",
    "\n",
    "# start = time.time()\n",
    "# model_SVM.fit(X_train_unrav,y_train)\n",
    "# end = time.time()\n",
    "\n",
    "# print(f\"Train time {end-start}\")\n",
    "\n",
    "# print('The Model is trained well with the given images')\n",
    "# print(model_SVM.best_params_)\n",
    "\n",
    "# y_pred_SVM = model_SVM.predict(X_test_unrav)\n",
    "# accuracy['SVM'] = accuracy_score(y_pred_SVM, y_test)\n",
    "# params['SVM'] = model_SVM.best_params_\n",
    "\n",
    "# print(f\"The model is {accuracy['SVM']*100:.2f}% accurate\")"
   ]
  },
  {
   "cell_type": "markdown",
   "id": "70f95dd1",
   "metadata": {
    "papermill": {
     "duration": 0.033404,
     "end_time": "2021-12-07T16:56:19.036915",
     "exception": false,
     "start_time": "2021-12-07T16:56:19.003511",
     "status": "completed"
    },
    "tags": []
   },
   "source": [
    "Additional groupings:"
   ]
  },
  {
   "cell_type": "code",
   "execution_count": 19,
   "id": "d25abc06",
   "metadata": {
    "execution": {
     "iopub.execute_input": "2021-12-07T16:56:19.108671Z",
     "iopub.status.busy": "2021-12-07T16:56:19.108068Z",
     "iopub.status.idle": "2021-12-07T16:56:19.111262Z",
     "shell.execute_reply": "2021-12-07T16:56:19.111672Z"
    },
    "papermill": {
     "duration": 0.041053,
     "end_time": "2021-12-07T16:56:19.111806",
     "exception": false,
     "start_time": "2021-12-07T16:56:19.070753",
     "status": "completed"
    },
    "tags": []
   },
   "outputs": [],
   "source": [
    "# # param_grid = {'C':[1,10],'gamma':[0.001,0.1],'kernel':['rbf','poly']}\n",
    "# param_grid = {'C':[0.01,0.1,1,10,100],'gamma':[0.0001,0.001,0.1,1],'kernel':['rbf','poly', 'linear']}\n",
    "# svc = svm.SVC(probability=True)\n",
    "# print(\"The training of the model is started, please wait for while as it may take few minutes to complete\")\n",
    "\n",
    "# model_SVM = GridSearchCV(svc,param_grid)\n",
    "\n",
    "# start = time.time()\n",
    "# model_SVM.fit(X_train_unrav,y_train_g)\n",
    "# end = time.time()\n",
    "\n",
    "# print(f\"Train time {end-start}\")\n",
    "\n",
    "# print('The Model is trained well with the given images')\n",
    "# print(model_SVM.best_params_)\n",
    "\n",
    "# y_pred_SVM = model_SVM.predict(X_test_unrav)\n",
    "# accuracy['SVM_group'] = accuracy_score(y_pred_SVM, y_test_g)\n",
    "# params['SVM_group'] = model_SVM.best_params_\n",
    "\n",
    "# print(f\"The model is {accuracy['SVM_group']*100:.2f}% accurate\")"
   ]
  },
  {
   "cell_type": "markdown",
   "id": "18ce673a",
   "metadata": {
    "papermill": {
     "duration": 0.034359,
     "end_time": "2021-12-07T16:56:19.180486",
     "exception": false,
     "start_time": "2021-12-07T16:56:19.146127",
     "status": "completed"
    },
    "tags": []
   },
   "source": [
    "## Bernoulli Naive Bayes Model"
   ]
  },
  {
   "cell_type": "code",
   "execution_count": 20,
   "id": "36f14f0f",
   "metadata": {
    "execution": {
     "iopub.execute_input": "2021-12-07T16:56:19.254098Z",
     "iopub.status.busy": "2021-12-07T16:56:19.253593Z",
     "iopub.status.idle": "2021-12-07T16:56:42.235513Z",
     "shell.execute_reply": "2021-12-07T16:56:42.236363Z",
     "shell.execute_reply.started": "2021-12-06T21:31:53.580706Z"
    },
    "papermill": {
     "duration": 23.022428,
     "end_time": "2021-12-07T16:56:42.236612",
     "exception": false,
     "start_time": "2021-12-07T16:56:19.214184",
     "status": "completed"
    },
    "tags": []
   },
   "outputs": [
    {
     "name": "stdout",
     "output_type": "stream",
     "text": [
      "The model is 17.20% accurate\n",
      "Classification Report:               precision    recall  f1-score   support\n",
      "\n",
      "           0       0.21      0.08      0.11       268\n",
      "           1       0.01      0.15      0.03        27\n",
      "           2       0.15      0.05      0.07       278\n",
      "           3       0.29      0.05      0.09       503\n",
      "           4       0.26      0.23      0.24       352\n",
      "           5       0.16      0.64      0.26       234\n",
      "           6       0.24      0.14      0.18       338\n",
      "\n",
      "    accuracy                           0.17      2000\n",
      "   macro avg       0.19      0.19      0.14      2000\n",
      "weighted avg       0.23      0.17      0.15      2000\n",
      "\n"
     ]
    }
   ],
   "source": [
    "alphas = {'alpha': [1.0e-10, 0.0001, 0.001, 0.01, 0.1, 0.5, 1.0, 2.0, 10.0]}\n",
    "\n",
    "bnb = BernoulliNB(binarize=0.1)\n",
    "model_BNB = GridSearchCV(bnb, alphas, scoring='accuracy')\n",
    "model_BNB.fit(X_train_unrav, y_train) \n",
    "\n",
    "y_pred_BNB = model_BNB.predict(X_test_unrav) \n",
    "accuracy['BNB'] = accuracy_score(y_pred_BNB,y_test)\n",
    "params['BNB'] = model_BNB.best_params_\n",
    "\n",
    "print(f\"The model is {accuracy['BNB']*100:.2f}% accurate\")\n",
    "\n",
    "print('Classification Report:',classification_report(y_test,y_pred_BNB))"
   ]
  },
  {
   "cell_type": "markdown",
   "id": "d9216d6f",
   "metadata": {
    "papermill": {
     "duration": 0.058924,
     "end_time": "2021-12-07T16:56:42.357700",
     "exception": false,
     "start_time": "2021-12-07T16:56:42.298776",
     "status": "completed"
    },
    "tags": []
   },
   "source": [
    "Additional groupings:"
   ]
  },
  {
   "cell_type": "code",
   "execution_count": 21,
   "id": "66af19e4",
   "metadata": {
    "execution": {
     "iopub.execute_input": "2021-12-07T16:56:42.444968Z",
     "iopub.status.busy": "2021-12-07T16:56:42.444128Z",
     "iopub.status.idle": "2021-12-07T16:57:06.255876Z",
     "shell.execute_reply": "2021-12-07T16:57:06.256644Z",
     "shell.execute_reply.started": "2021-12-06T21:32:15.083139Z"
    },
    "papermill": {
     "duration": 23.864192,
     "end_time": "2021-12-07T16:57:06.256899",
     "exception": false,
     "start_time": "2021-12-07T16:56:42.392707",
     "status": "completed"
    },
    "tags": []
   },
   "outputs": [
    {
     "name": "stdout",
     "output_type": "stream",
     "text": [
      "The model is 29.65% accurate\n",
      "Classification Report:                precision    recall  f1-score   support\n",
      "\n",
      "    Angry/Sad       0.41      0.20      0.27       647\n",
      "Fear/Surprise       0.29      0.67      0.40       512\n",
      "        Happy       0.31      0.10      0.15       503\n",
      "      Neutral       0.22      0.21      0.22       338\n",
      "\n",
      "     accuracy                           0.30      2000\n",
      "    macro avg       0.31      0.29      0.26      2000\n",
      " weighted avg       0.32      0.30      0.26      2000\n",
      "\n"
     ]
    }
   ],
   "source": [
    "alphas = {'alpha': [1.0e-10, 0.0001, 0.001, 0.01, 0.1, 0.5, 1.0, 2.0, 10.0]}\n",
    "\n",
    "bnb = BernoulliNB(binarize=0.1)\n",
    "model_BNB = GridSearchCV(bnb, alphas, scoring='accuracy')\n",
    "model_BNB.fit(X_train_unrav, y_train_g) \n",
    "\n",
    "y_pred_BNB = model_BNB.predict(X_test_unrav) \n",
    "accuracy['BNB_group'] = accuracy_score(y_pred_BNB,y_test_g)\n",
    "params['BNB_group'] = model_BNB.best_params_\n",
    "\n",
    "print(f\"The model is {accuracy['BNB_group']*100:.2f}% accurate\")\n",
    "\n",
    "print('Classification Report:',classification_report(y_test_g,y_pred_BNB))"
   ]
  },
  {
   "cell_type": "code",
   "execution_count": 22,
   "id": "6801baa2",
   "metadata": {
    "execution": {
     "iopub.execute_input": "2021-12-07T16:57:06.350971Z",
     "iopub.status.busy": "2021-12-07T16:57:06.350236Z",
     "iopub.status.idle": "2021-12-07T16:57:06.352870Z",
     "shell.execute_reply": "2021-12-07T16:57:06.352407Z",
     "shell.execute_reply.started": "2021-12-03T20:21:15.122797Z"
    },
    "papermill": {
     "duration": 0.039636,
     "end_time": "2021-12-07T16:57:06.352970",
     "exception": false,
     "start_time": "2021-12-07T16:57:06.313334",
     "status": "completed"
    },
    "tags": []
   },
   "outputs": [],
   "source": [
    "# alphas = {'alpha': [1.0e-10, 0.0001, 0.001, 0.01, 0.1, 0.5, 1.0, 2.0, 10.0]}\n",
    "\n",
    "# gs_nb = GridSearchCV(BernoulliNB(binarize = 0.1), alphas, cv = 5, scoring='accuracy').fit(X_train_unrav, y_train)\n",
    "# for i in range(0,len(alphas['alpha'])):\n",
    "#     print('Alpha:',gs_nb.cv_results_['param_alpha'][i], 'Score:',round(gs_nb.cv_results_['mean_test_score'][i],3))\n",
    "# print('Best alpha value:',gs_nb.best_params_)\n",
    "\n",
    "# y_pred_BNB = gs_nb.predict(X_test_unrav)\n",
    "\n",
    "# print(f'The model is {accuracy_score(y_pred_BNB,y_test)}% accurate')"
   ]
  },
  {
   "cell_type": "markdown",
   "id": "f9f846a1",
   "metadata": {
    "papermill": {
     "duration": 0.033436,
     "end_time": "2021-12-07T16:57:06.420194",
     "exception": false,
     "start_time": "2021-12-07T16:57:06.386758",
     "status": "completed"
    },
    "tags": []
   },
   "source": [
    "## Multinomial Naive Bayes Model"
   ]
  },
  {
   "cell_type": "code",
   "execution_count": 23,
   "id": "fc0c8345",
   "metadata": {
    "execution": {
     "iopub.execute_input": "2021-12-07T16:57:06.496892Z",
     "iopub.status.busy": "2021-12-07T16:57:06.496091Z",
     "iopub.status.idle": "2021-12-07T16:57:13.003641Z",
     "shell.execute_reply": "2021-12-07T16:57:13.004846Z",
     "shell.execute_reply.started": "2021-12-06T21:33:22.560858Z"
    },
    "papermill": {
     "duration": 6.551341,
     "end_time": "2021-12-07T16:57:13.005084",
     "exception": false,
     "start_time": "2021-12-07T16:57:06.453743",
     "status": "completed"
    },
    "tags": []
   },
   "outputs": [
    {
     "name": "stdout",
     "output_type": "stream",
     "text": [
      "The Naive Bayes model is 22.65% accurate\n",
      "Classification Report:               precision    recall  f1-score   support\n",
      "\n",
      "           0       0.18      0.16      0.17       268\n",
      "           1       0.02      0.11      0.03        27\n",
      "           2       0.13      0.21      0.16       278\n",
      "           3       0.35      0.26      0.30       503\n",
      "           4       0.23      0.07      0.11       352\n",
      "           5       0.31      0.28      0.29       234\n",
      "           6       0.29      0.38      0.33       338\n",
      "\n",
      "    accuracy                           0.23      2000\n",
      "   macro avg       0.21      0.21      0.20      2000\n",
      "weighted avg       0.26      0.23      0.23      2000\n",
      "\n"
     ]
    }
   ],
   "source": [
    "# GRID SEARCH\n",
    "def trinarize(data, lower, upper):\n",
    "        trinarized_data = np.zeros(data.shape)\n",
    "        trinarized_data[(data <= lower)] = 0\n",
    "        trinarized_data[(data > lower)] = 1\n",
    "        trinarized_data[(data >= upper)] = 2\n",
    "        return trinarized_data\n",
    "\n",
    "alphas = {'alpha': [1.0e-10, 0.0001, 0.001, 0.01, 0.1, 0.5, 1.0, 2.0, 10.0]}\n",
    "\n",
    "mnb = MultinomialNB()\n",
    "model_MNB = GridSearchCV(mnb, alphas, scoring='accuracy')\n",
    "model_MNB.fit(trinarize(X_train_unrav,0.25,0.75), y_train)\n",
    "y_pred_MNB = model_MNB.predict(trinarize(X_test_unrav,0.25,0.75))\n",
    "accuracy['MNB'] = accuracy_score(y_pred_MNB,y_test)\n",
    "params['MNB'] = model_MNB.best_params_\n",
    "\n",
    "print(f\"The Naive Bayes model is {accuracy['MNB']*100:.2f}% accurate\")\n",
    "\n",
    "print('Classification Report:',classification_report(y_test,y_pred_MNB))"
   ]
  },
  {
   "cell_type": "markdown",
   "id": "d52efbfa",
   "metadata": {
    "papermill": {
     "duration": 0.055471,
     "end_time": "2021-12-07T16:57:13.125361",
     "exception": false,
     "start_time": "2021-12-07T16:57:13.069890",
     "status": "completed"
    },
    "tags": []
   },
   "source": [
    "Additional groupings:"
   ]
  },
  {
   "cell_type": "code",
   "execution_count": 24,
   "id": "bb826d16",
   "metadata": {
    "execution": {
     "iopub.execute_input": "2021-12-07T16:57:13.208782Z",
     "iopub.status.busy": "2021-12-07T16:57:13.207983Z",
     "iopub.status.idle": "2021-12-07T16:57:21.588405Z",
     "shell.execute_reply": "2021-12-07T16:57:21.587659Z",
     "shell.execute_reply.started": "2021-12-06T21:33:29.421867Z"
    },
    "papermill": {
     "duration": 8.429322,
     "end_time": "2021-12-07T16:57:21.588605",
     "exception": false,
     "start_time": "2021-12-07T16:57:13.159283",
     "status": "completed"
    },
    "tags": []
   },
   "outputs": [
    {
     "name": "stdout",
     "output_type": "stream",
     "text": [
      "The Naive Bayes model is 33.70% accurate\n",
      "Classification Report:                precision    recall  f1-score   support\n",
      "\n",
      "    Angry/Sad       0.40      0.27      0.33       647\n",
      "Fear/Surprise       0.34      0.39      0.36       512\n",
      "        Happy       0.35      0.31      0.33       503\n",
      "      Neutral       0.27      0.42      0.33       338\n",
      "\n",
      "     accuracy                           0.34      2000\n",
      "    macro avg       0.34      0.35      0.34      2000\n",
      " weighted avg       0.35      0.34      0.34      2000\n",
      "\n"
     ]
    }
   ],
   "source": [
    "# GRID SEARCH\n",
    "def trinarize(data, lower, upper):\n",
    "        trinarized_data = np.zeros(data.shape)\n",
    "        trinarized_data[(data <= lower)] = 0\n",
    "        trinarized_data[(data > lower)] = 1\n",
    "        trinarized_data[(data >= upper)] = 2\n",
    "        return trinarized_data\n",
    "\n",
    "alphas = {'alpha': [1.0e-10, 0.0001, 0.001, 0.01, 0.1, 0.5, 1.0, 2.0, 10.0]}\n",
    "\n",
    "mnb = MultinomialNB()\n",
    "model_MNB = GridSearchCV(mnb, alphas, scoring='accuracy')\n",
    "model_MNB.fit(trinarize(X_train_unrav,0.25,0.75), y_train_g)\n",
    "y_pred_MNB = model_MNB.predict(trinarize(X_test_unrav,0.25,0.75))\n",
    "accuracy['MNB_group'] = accuracy_score(y_pred_MNB,y_test_g)\n",
    "params['MNB_group'] = model_MNB.best_params_\n",
    "\n",
    "print(f\"The Naive Bayes model is {accuracy['MNB_group']*100:.2f}% accurate\")\n",
    "\n",
    "print('Classification Report:',classification_report(y_test_g,y_pred_MNB))"
   ]
  },
  {
   "cell_type": "markdown",
   "id": "b5cc92fe",
   "metadata": {
    "papermill": {
     "duration": 0.034919,
     "end_time": "2021-12-07T16:57:21.681360",
     "exception": false,
     "start_time": "2021-12-07T16:57:21.646441",
     "status": "completed"
    },
    "tags": []
   },
   "source": [
    "## Gaussian Naive Naive Bayes Model"
   ]
  },
  {
   "cell_type": "code",
   "execution_count": 25,
   "id": "4bde15bb",
   "metadata": {
    "execution": {
     "iopub.execute_input": "2021-12-07T16:57:21.758773Z",
     "iopub.status.busy": "2021-12-07T16:57:21.757941Z",
     "iopub.status.idle": "2021-12-07T17:01:34.289515Z",
     "shell.execute_reply": "2021-12-07T17:01:34.289936Z",
     "shell.execute_reply.started": "2021-12-06T21:43:54.010684Z"
    },
    "papermill": {
     "duration": 252.573918,
     "end_time": "2021-12-07T17:01:34.290086",
     "exception": false,
     "start_time": "2021-12-07T16:57:21.716168",
     "status": "completed"
    },
    "tags": []
   },
   "outputs": [
    {
     "name": "stdout",
     "output_type": "stream",
     "text": [
      "Gaussian Naive Bayes model with var_smoothing set to 0.1 had accuracy 21.75%\n",
      "Classification Report:               precision    recall  f1-score   support\n",
      "\n",
      "           0       0.14      0.04      0.06       268\n",
      "           1       0.01      0.15      0.02        27\n",
      "           2       0.15      0.04      0.06       278\n",
      "           3       0.41      0.16      0.23       503\n",
      "           4       0.26      0.40      0.31       352\n",
      "           5       0.24      0.59      0.34       234\n",
      "           6       0.26      0.15      0.19       338\n",
      "\n",
      "    accuracy                           0.22      2000\n",
      "   macro avg       0.21      0.22      0.17      2000\n",
      "weighted avg       0.26      0.22      0.20      2000\n",
      "\n"
     ]
    }
   ],
   "source": [
    "#GRID SEARCH\n",
    "alphas = {'alpha': [1.0e-10, 0.0001, 0.001, 0.01, 0.1, 0.5, 1.0, 2.0, 10.0]}\n",
    "param_grid = {'var_smoothing': np.logspace(0,-9, num=100)}\n",
    "\n",
    "gnb2 = GaussianNB()\n",
    "model_GNB2 = GridSearchCV(gnb2, param_grid, scoring='accuracy')\n",
    "model_GNB2.fit(X_train_unrav, y_train)\n",
    "y_pred_GNB2 = model_GNB2.predict(X_test_unrav)\n",
    "accuracy['GNB'] = accuracy_score(y_pred_GNB2,y_test)\n",
    "params['GNB'] = model_GNB2.best_params_\n",
    "\n",
    "print(f\"Gaussian Naive Bayes model with var_smoothing set to 0.1 had accuracy {accuracy['GNB']*100:.2f}%\")\n",
    "\n",
    "print('Classification Report:',classification_report(y_test,y_pred_GNB2))"
   ]
  },
  {
   "cell_type": "markdown",
   "id": "215ccc84",
   "metadata": {
    "papermill": {
     "duration": 0.034442,
     "end_time": "2021-12-07T17:01:34.360281",
     "exception": false,
     "start_time": "2021-12-07T17:01:34.325839",
     "status": "completed"
    },
    "tags": []
   },
   "source": [
    "Additional groupings:"
   ]
  },
  {
   "cell_type": "code",
   "execution_count": 26,
   "id": "1bcd2933",
   "metadata": {
    "execution": {
     "iopub.execute_input": "2021-12-07T17:01:34.443527Z",
     "iopub.status.busy": "2021-12-07T17:01:34.442781Z",
     "iopub.status.idle": "2021-12-07T17:05:34.264315Z",
     "shell.execute_reply": "2021-12-07T17:05:34.264737Z",
     "shell.execute_reply.started": "2021-12-06T21:48:00.677539Z"
    },
    "papermill": {
     "duration": 239.869629,
     "end_time": "2021-12-07T17:05:34.264890",
     "exception": false,
     "start_time": "2021-12-07T17:01:34.395261",
     "status": "completed"
    },
    "tags": []
   },
   "outputs": [
    {
     "name": "stdout",
     "output_type": "stream",
     "text": [
      "Gaussian Naive Bayes model with var_smoothing set to 0.1 had accuracy 36.15%\n",
      "Classification Report:                precision    recall  f1-score   support\n",
      "\n",
      "    Angry/Sad       0.44      0.32      0.37       647\n",
      "Fear/Surprise       0.37      0.60      0.46       512\n",
      "        Happy       0.36      0.26      0.30       503\n",
      "      Neutral       0.24      0.25      0.24       338\n",
      "\n",
      "     accuracy                           0.36      2000\n",
      "    macro avg       0.35      0.35      0.34      2000\n",
      " weighted avg       0.37      0.36      0.35      2000\n",
      "\n"
     ]
    }
   ],
   "source": [
    "#GRID SEARCH\n",
    "alphas = {'alpha': [1.0e-10, 0.0001, 0.001, 0.01, 0.1, 0.5, 1.0, 2.0, 10.0]}\n",
    "param_grid = {'var_smoothing': np.logspace(0,-9, num=100)}\n",
    "\n",
    "gnb2 = GaussianNB()\n",
    "model_GNB2 = GridSearchCV(gnb2, param_grid, scoring='accuracy')\n",
    "model_GNB2.fit(X_train_unrav, y_train_g)\n",
    "y_pred_GNB2 = model_GNB2.predict(X_test_unrav)\n",
    "accuracy['GNB_group'] = accuracy_score(y_pred_GNB2,y_test_g)\n",
    "params['GNB_group'] = model_GNB2.best_params_\n",
    "\n",
    "print(f\"Gaussian Naive Bayes model with var_smoothing set to 0.1 had accuracy {accuracy['GNB_group']*100:.2f}%\")\n",
    "\n",
    "print('Classification Report:',classification_report(y_test_g,y_pred_GNB2))"
   ]
  },
  {
   "cell_type": "markdown",
   "id": "3fec6673",
   "metadata": {
    "papermill": {
     "duration": 0.034747,
     "end_time": "2021-12-07T17:05:34.334613",
     "exception": false,
     "start_time": "2021-12-07T17:05:34.299866",
     "status": "completed"
    },
    "tags": []
   },
   "source": [
    "## CNN Model "
   ]
  },
  {
   "cell_type": "code",
   "execution_count": 27,
   "id": "399616f5",
   "metadata": {
    "execution": {
     "iopub.execute_input": "2021-12-07T17:05:34.409105Z",
     "iopub.status.busy": "2021-12-07T17:05:34.408359Z",
     "iopub.status.idle": "2021-12-07T17:05:34.410293Z",
     "shell.execute_reply": "2021-12-07T17:05:34.410715Z",
     "shell.execute_reply.started": "2021-12-03T20:47:00.434015Z"
    },
    "papermill": {
     "duration": 0.041116,
     "end_time": "2021-12-07T17:05:34.410843",
     "exception": false,
     "start_time": "2021-12-07T17:05:34.369727",
     "status": "completed"
    },
    "tags": []
   },
   "outputs": [],
   "source": [
    "# scaler = StandardScaler()\n",
    "# scaler.fit(X_train_unrav)\n",
    "# X_train_unrav = scaler.transform(X_train_unrav)\n",
    "# X_test_unrav = scaler.transform(X_test_unrav)\n",
    "# param_grid = {'alpha': 10.0 ** -np.arange(1, 7),\n",
    "#              'solver': ['lbfgs', 'adam'],\n",
    "#              'hidden_layer_sizes': [250, 100, 50, 25, 5]}\n",
    "# clf = GridSearchCV(MLPClassifier(random_state=12345), param_grid)\n",
    "# start = time.time()\n",
    "# clf.fit(X_train_unrav, y_train_unrav)\n",
    "# end = time.time()\n",
    "# print(f\"Train time: {start-end}\")"
   ]
  },
  {
   "cell_type": "code",
   "execution_count": 28,
   "id": "c84e3542",
   "metadata": {
    "execution": {
     "iopub.execute_input": "2021-12-07T17:05:34.483454Z",
     "iopub.status.busy": "2021-12-07T17:05:34.482668Z",
     "iopub.status.idle": "2021-12-07T17:05:34.486840Z",
     "shell.execute_reply": "2021-12-07T17:05:34.486415Z",
     "shell.execute_reply.started": "2021-12-03T20:55:09.010412Z"
    },
    "papermill": {
     "duration": 0.040919,
     "end_time": "2021-12-07T17:05:34.486937",
     "exception": false,
     "start_time": "2021-12-07T17:05:34.446018",
     "status": "completed"
    },
    "tags": []
   },
   "outputs": [],
   "source": [
    "# # From https://scikit-learn.org/stable/auto_examples/model_selection/plot_grid_search_digits.html\n",
    "# print(\"Best parameters set found on training set:\")\n",
    "# print()\n",
    "# print(clf.best_params_)\n",
    "# print()\n",
    "# print(\"Grid scores on training set:\")\n",
    "# print()\n",
    "# means = clf.cv_results_[\"mean_test_score\"]\n",
    "# stds = clf.cv_results_[\"std_test_score\"]\n",
    "# for mean, std, params in zip(means, stds, clf.cv_results_[\"params\"]):\n",
    "#     print(\"%0.3f (+/-%0.03f) for %r\" % (mean, std * 2, params))\n",
    "# print()"
   ]
  },
  {
   "cell_type": "code",
   "execution_count": 29,
   "id": "6315de75",
   "metadata": {
    "execution": {
     "iopub.execute_input": "2021-12-07T17:05:34.560824Z",
     "iopub.status.busy": "2021-12-07T17:05:34.560014Z",
     "iopub.status.idle": "2021-12-07T17:05:34.561811Z",
     "shell.execute_reply": "2021-12-07T17:05:34.562254Z",
     "shell.execute_reply.started": "2021-12-03T20:55:09.013037Z"
    },
    "papermill": {
     "duration": 0.040639,
     "end_time": "2021-12-07T17:05:34.562373",
     "exception": false,
     "start_time": "2021-12-07T17:05:34.521734",
     "status": "completed"
    },
    "tags": []
   },
   "outputs": [],
   "source": [
    "# print(\"Detailed classification report for optimal parameters:\")\n",
    "# print()\n",
    "# print(\"The model is trained on the full training set.\")\n",
    "# print(\"The scores are computed on the full test set.\")\n",
    "# print()\n",
    "# y_true, y_pred = y_test_unrav, clf.predict(X_test_unrav)\n",
    "# print(classification_report(y_true, y_pred))\n",
    "# print()"
   ]
  },
  {
   "cell_type": "code",
   "execution_count": 30,
   "id": "e14f99d0",
   "metadata": {
    "execution": {
     "iopub.execute_input": "2021-12-07T17:05:34.636367Z",
     "iopub.status.busy": "2021-12-07T17:05:34.634861Z",
     "iopub.status.idle": "2021-12-07T17:05:34.636973Z",
     "shell.execute_reply": "2021-12-07T17:05:34.637411Z",
     "shell.execute_reply.started": "2021-12-03T20:55:09.015573Z"
    },
    "papermill": {
     "duration": 0.040478,
     "end_time": "2021-12-07T17:05:34.637530",
     "exception": false,
     "start_time": "2021-12-07T17:05:34.597052",
     "status": "completed"
    },
    "tags": []
   },
   "outputs": [],
   "source": [
    "# params['CLF'] = clf.best_params_"
   ]
  },
  {
   "cell_type": "code",
   "execution_count": 31,
   "id": "48abb785",
   "metadata": {
    "execution": {
     "iopub.execute_input": "2021-12-07T17:05:34.712531Z",
     "iopub.status.busy": "2021-12-07T17:05:34.711811Z",
     "iopub.status.idle": "2021-12-07T17:05:34.716893Z",
     "shell.execute_reply": "2021-12-07T17:05:34.717362Z",
     "shell.execute_reply.started": "2021-12-03T20:55:09.01814Z"
    },
    "papermill": {
     "duration": 0.045228,
     "end_time": "2021-12-07T17:05:34.717480",
     "exception": false,
     "start_time": "2021-12-07T17:05:34.672252",
     "status": "completed"
    },
    "tags": []
   },
   "outputs": [],
   "source": [
    "accuracy_df = pd.DataFrame(list(accuracy.items()))\n",
    "params_df = pd.DataFrame(list(params.items()))\n",
    "\n",
    "accuracy_df.to_csv('accuracy_df.csv', index=False)\n",
    "params_df.to_csv('params_df.csv', index=False)\n"
   ]
  }
 ],
 "metadata": {
  "kernelspec": {
   "display_name": "Python 3",
   "language": "python",
   "name": "python3"
  },
  "language_info": {
   "codemirror_mode": {
    "name": "ipython",
    "version": 3
   },
   "file_extension": ".py",
   "mimetype": "text/x-python",
   "name": "python",
   "nbconvert_exporter": "python",
   "pygments_lexer": "ipython3",
   "version": "3.7.10"
  },
  "papermill": {
   "default_parameters": {},
   "duration": 7663.60284,
   "end_time": "2021-12-07T17:05:35.273638",
   "environment_variables": {},
   "exception": null,
   "input_path": "__notebook__.ipynb",
   "output_path": "__notebook__.ipynb",
   "parameters": {},
   "start_time": "2021-12-07T14:57:51.670798",
   "version": "2.3.3"
  }
 },
 "nbformat": 4,
 "nbformat_minor": 5
}
